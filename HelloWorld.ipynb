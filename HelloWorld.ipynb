{
  "nbformat": 4,
  "nbformat_minor": 0,
  "metadata": {
    "colab": {
      "name": "HelloWorld.ipynb",
      "provenance": []
    },
    "kernelspec": {
      "name": "python3",
      "display_name": "Python 3"
    }
  },
  "cells": [
    {
      "cell_type": "code",
      "source": [
        "import tarfile\n",
        "tar = tarfile.open(\"./RML2016.10a.tar.bz2\", \"r:bz2\")  \n",
        "tar.extractall()"
      ],
      "metadata": {
        "id": "jPlP1RAu-wuJ"
      },
      "execution_count": null,
      "outputs": []
    }
  ]
}